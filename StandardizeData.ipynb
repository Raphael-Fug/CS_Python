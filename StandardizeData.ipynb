{
 "cells": [
  {
   "cell_type": "code",
   "execution_count": null,
   "id": "95d5d5cb",
   "metadata": {},
   "outputs": [],
   "source": [
    "import pandas as pd"
   ]
  },
  {
   "cell_type": "code",
   "execution_count": 24,
   "id": "afb152f8",
   "metadata": {},
   "outputs": [
    {
     "data": {
      "text/plain": [
       "{'Products':    Product id   Product\n",
       " 0           1   Pintury\n",
       " 1           2      Pixo\n",
       " 2           3    Floati\n",
       " 3           4   Artista\n",
       " 4           5  SprayPix\n",
       " 5          -1      NONE,\n",
       " 'Cities':    City id              City\n",
       " 0        1  Ho Chi Minh City\n",
       " 1        2             Hanoi\n",
       " 2        3           Da Nang\n",
       " 3        4               Huế\n",
       " 4        5           Đông Hà\n",
       " 5        6            Đà Lạt\n",
       " 6        7            Hội An\n",
       " 7        8     Buôn Ma Thuột\n",
       " 8        9          Haiphong\n",
       " 9       10         Nha Trang,\n",
       " 'Traffic channels':    Channel id     Channel\n",
       " 0           1  Google SEO\n",
       " 1           2  Google Ads\n",
       " 2           3        Bing\n",
       " 3           4    Facebook\n",
       " 4           5   Instagram\n",
       " 5           6     Twitter,\n",
       " 'Pricing plans':    Pricing plan id Pricing plan\n",
       " 0                1        Light\n",
       " 1                2     Advanced\n",
       " 2                3      Premium\n",
       " 3               -1         NONE,\n",
       " 'Prices':   Unnamed: 0  Pintury   Pixo  Floati  Artista  SprayPix  NONE\n",
       " 0      Light    199.0  144.0   395.0    599.0     297.0     0\n",
       " 1   Advanced      NaN    NaN     NaN      NaN       NaN     0\n",
       " 2    Premium      NaN    NaN     NaN      NaN       NaN     0\n",
       " 3       NONE      0.0    0.0     0.0      0.0       0.0     0,\n",
       " 'Visitors data':       Visitor id  Channel id     Channel Device type  Bought  Order id  \\\n",
       " 0              1           4    Facebook     Desktop       1         1   \n",
       " 1              2           2  Google Ads     Desktop       1         2   \n",
       " 2              3           5   Instagram      Mobile       1         3   \n",
       " 3              4           2  Google Ads      Mobile       1         4   \n",
       " 4              5           1  Google SEO      Mobile       1         5   \n",
       " ...          ...         ...         ...         ...     ...       ...   \n",
       " 1495        1496           1  Google SEO     Desktop       0        -1   \n",
       " 1496        1497           3        Bing      Mobile       0        -1   \n",
       " 1497        1498           5   Instagram     Desktop       0        -1   \n",
       " 1498        1499           1  Google SEO     Desktop       0        -1   \n",
       " 1499        1500           1  Google SEO      Mobile       0        -1   \n",
       " \n",
       "       Product id  Products  Pricing plan id Pricing plan  City id  \\\n",
       " 0              5  SprayPix                2     Advanced        6   \n",
       " 1              2      Pixo                1        Light        8   \n",
       " 2              4   Artista                1        Light        1   \n",
       " 3              5  SprayPix                2     Advanced        1   \n",
       " 4              4   Artista                2     Advanced        3   \n",
       " ...          ...       ...              ...          ...      ...   \n",
       " 1495          -1       NaN               -1          NaN        5   \n",
       " 1496          -1       NaN               -1          NaN        5   \n",
       " 1497          -1       NaN               -1          NaN        6   \n",
       " 1498          -1       NaN               -1          NaN        5   \n",
       " 1499          -1       NaN               -1          NaN       10   \n",
       " \n",
       "                   City  Day of week (num) Day of week  \n",
       " 0               Đà Lạt                  3         Wed  \n",
       " 1        Buôn Ma Thuột                  2         Tue  \n",
       " 2     Ho Chi Minh City                  5         Fri  \n",
       " 3     Ho Chi Minh City                  1         Mon  \n",
       " 4              Da Nang                  1         Mon  \n",
       " ...                ...                ...         ...  \n",
       " 1495           Đông Hà                  1         Mon  \n",
       " 1496           Đông Hà                  5         Fri  \n",
       " 1497            Đà Lạt                  3         Wed  \n",
       " 1498           Đông Hà                  5         Fri  \n",
       " 1499         Nha Trang                  5         Fri  \n",
       " \n",
       " [1500 rows x 14 columns]}"
      ]
     },
     "execution_count": 24,
     "metadata": {},
     "output_type": "execute_result"
    }
   ],
   "source": [
    "visitor_data = pd.read_excel(\"company data.xlsx\", sheet_name=None)\n",
    "visitor_data"
   ]
  },
  {
   "cell_type": "markdown",
   "id": "8228e28b",
   "metadata": {},
   "source": [
    "# **Đọc dữ liệu**"
   ]
  },
  {
   "cell_type": "code",
   "execution_count": 42,
   "id": "3f331b6b",
   "metadata": {},
   "outputs": [
    {
     "data": {
      "text/html": [
       "<div>\n",
       "<style scoped>\n",
       "    .dataframe tbody tr th:only-of-type {\n",
       "        vertical-align: middle;\n",
       "    }\n",
       "\n",
       "    .dataframe tbody tr th {\n",
       "        vertical-align: top;\n",
       "    }\n",
       "\n",
       "    .dataframe thead th {\n",
       "        text-align: right;\n",
       "    }\n",
       "</style>\n",
       "<table border=\"1\" class=\"dataframe\">\n",
       "  <thead>\n",
       "    <tr style=\"text-align: right;\">\n",
       "      <th></th>\n",
       "      <th>Visitor id</th>\n",
       "      <th>Channel id</th>\n",
       "      <th>Channel</th>\n",
       "      <th>Device type</th>\n",
       "      <th>Bought</th>\n",
       "      <th>Order id</th>\n",
       "      <th>Product id</th>\n",
       "      <th>Products</th>\n",
       "      <th>Pricing plan id</th>\n",
       "      <th>Pricing plan</th>\n",
       "      <th>City id</th>\n",
       "      <th>City</th>\n",
       "      <th>Day of week (num)</th>\n",
       "      <th>Day of week</th>\n",
       "    </tr>\n",
       "  </thead>\n",
       "  <tbody>\n",
       "    <tr>\n",
       "      <th>0</th>\n",
       "      <td>1</td>\n",
       "      <td>4</td>\n",
       "      <td>Facebook</td>\n",
       "      <td>Desktop</td>\n",
       "      <td>1</td>\n",
       "      <td>1</td>\n",
       "      <td>5</td>\n",
       "      <td>SprayPix</td>\n",
       "      <td>2</td>\n",
       "      <td>Advanced</td>\n",
       "      <td>6</td>\n",
       "      <td>Đà Lạt</td>\n",
       "      <td>3</td>\n",
       "      <td>Wed</td>\n",
       "    </tr>\n",
       "    <tr>\n",
       "      <th>1</th>\n",
       "      <td>2</td>\n",
       "      <td>2</td>\n",
       "      <td>Google Ads</td>\n",
       "      <td>Desktop</td>\n",
       "      <td>1</td>\n",
       "      <td>2</td>\n",
       "      <td>2</td>\n",
       "      <td>Pixo</td>\n",
       "      <td>1</td>\n",
       "      <td>Light</td>\n",
       "      <td>8</td>\n",
       "      <td>Buôn Ma Thuột</td>\n",
       "      <td>2</td>\n",
       "      <td>Tue</td>\n",
       "    </tr>\n",
       "    <tr>\n",
       "      <th>2</th>\n",
       "      <td>3</td>\n",
       "      <td>5</td>\n",
       "      <td>Instagram</td>\n",
       "      <td>Mobile</td>\n",
       "      <td>1</td>\n",
       "      <td>3</td>\n",
       "      <td>4</td>\n",
       "      <td>Artista</td>\n",
       "      <td>1</td>\n",
       "      <td>Light</td>\n",
       "      <td>1</td>\n",
       "      <td>Ho Chi Minh City</td>\n",
       "      <td>5</td>\n",
       "      <td>Fri</td>\n",
       "    </tr>\n",
       "    <tr>\n",
       "      <th>3</th>\n",
       "      <td>4</td>\n",
       "      <td>2</td>\n",
       "      <td>Google Ads</td>\n",
       "      <td>Mobile</td>\n",
       "      <td>1</td>\n",
       "      <td>4</td>\n",
       "      <td>5</td>\n",
       "      <td>SprayPix</td>\n",
       "      <td>2</td>\n",
       "      <td>Advanced</td>\n",
       "      <td>1</td>\n",
       "      <td>Ho Chi Minh City</td>\n",
       "      <td>1</td>\n",
       "      <td>Mon</td>\n",
       "    </tr>\n",
       "    <tr>\n",
       "      <th>4</th>\n",
       "      <td>5</td>\n",
       "      <td>1</td>\n",
       "      <td>Google SEO</td>\n",
       "      <td>Mobile</td>\n",
       "      <td>1</td>\n",
       "      <td>5</td>\n",
       "      <td>4</td>\n",
       "      <td>Artista</td>\n",
       "      <td>2</td>\n",
       "      <td>Advanced</td>\n",
       "      <td>3</td>\n",
       "      <td>Da Nang</td>\n",
       "      <td>1</td>\n",
       "      <td>Mon</td>\n",
       "    </tr>\n",
       "    <tr>\n",
       "      <th>...</th>\n",
       "      <td>...</td>\n",
       "      <td>...</td>\n",
       "      <td>...</td>\n",
       "      <td>...</td>\n",
       "      <td>...</td>\n",
       "      <td>...</td>\n",
       "      <td>...</td>\n",
       "      <td>...</td>\n",
       "      <td>...</td>\n",
       "      <td>...</td>\n",
       "      <td>...</td>\n",
       "      <td>...</td>\n",
       "      <td>...</td>\n",
       "      <td>...</td>\n",
       "    </tr>\n",
       "    <tr>\n",
       "      <th>1495</th>\n",
       "      <td>1496</td>\n",
       "      <td>1</td>\n",
       "      <td>Google SEO</td>\n",
       "      <td>Desktop</td>\n",
       "      <td>0</td>\n",
       "      <td>-1</td>\n",
       "      <td>-1</td>\n",
       "      <td>NONE</td>\n",
       "      <td>-1</td>\n",
       "      <td>NONE</td>\n",
       "      <td>5</td>\n",
       "      <td>Đông Hà</td>\n",
       "      <td>1</td>\n",
       "      <td>Mon</td>\n",
       "    </tr>\n",
       "    <tr>\n",
       "      <th>1496</th>\n",
       "      <td>1497</td>\n",
       "      <td>3</td>\n",
       "      <td>Bing</td>\n",
       "      <td>Mobile</td>\n",
       "      <td>0</td>\n",
       "      <td>-1</td>\n",
       "      <td>-1</td>\n",
       "      <td>NONE</td>\n",
       "      <td>-1</td>\n",
       "      <td>NONE</td>\n",
       "      <td>5</td>\n",
       "      <td>Đông Hà</td>\n",
       "      <td>5</td>\n",
       "      <td>Fri</td>\n",
       "    </tr>\n",
       "    <tr>\n",
       "      <th>1497</th>\n",
       "      <td>1498</td>\n",
       "      <td>5</td>\n",
       "      <td>Instagram</td>\n",
       "      <td>Desktop</td>\n",
       "      <td>0</td>\n",
       "      <td>-1</td>\n",
       "      <td>-1</td>\n",
       "      <td>NONE</td>\n",
       "      <td>-1</td>\n",
       "      <td>NONE</td>\n",
       "      <td>6</td>\n",
       "      <td>Đà Lạt</td>\n",
       "      <td>3</td>\n",
       "      <td>Wed</td>\n",
       "    </tr>\n",
       "    <tr>\n",
       "      <th>1498</th>\n",
       "      <td>1499</td>\n",
       "      <td>1</td>\n",
       "      <td>Google SEO</td>\n",
       "      <td>Desktop</td>\n",
       "      <td>0</td>\n",
       "      <td>-1</td>\n",
       "      <td>-1</td>\n",
       "      <td>NONE</td>\n",
       "      <td>-1</td>\n",
       "      <td>NONE</td>\n",
       "      <td>5</td>\n",
       "      <td>Đông Hà</td>\n",
       "      <td>5</td>\n",
       "      <td>Fri</td>\n",
       "    </tr>\n",
       "    <tr>\n",
       "      <th>1499</th>\n",
       "      <td>1500</td>\n",
       "      <td>1</td>\n",
       "      <td>Google SEO</td>\n",
       "      <td>Mobile</td>\n",
       "      <td>0</td>\n",
       "      <td>-1</td>\n",
       "      <td>-1</td>\n",
       "      <td>NONE</td>\n",
       "      <td>-1</td>\n",
       "      <td>NONE</td>\n",
       "      <td>10</td>\n",
       "      <td>Nha Trang</td>\n",
       "      <td>5</td>\n",
       "      <td>Fri</td>\n",
       "    </tr>\n",
       "  </tbody>\n",
       "</table>\n",
       "<p>1500 rows × 14 columns</p>\n",
       "</div>"
      ],
      "text/plain": [
       "      Visitor id  Channel id     Channel Device type  Bought  Order id  \\\n",
       "0              1           4    Facebook     Desktop       1         1   \n",
       "1              2           2  Google Ads     Desktop       1         2   \n",
       "2              3           5   Instagram      Mobile       1         3   \n",
       "3              4           2  Google Ads      Mobile       1         4   \n",
       "4              5           1  Google SEO      Mobile       1         5   \n",
       "...          ...         ...         ...         ...     ...       ...   \n",
       "1495        1496           1  Google SEO     Desktop       0        -1   \n",
       "1496        1497           3        Bing      Mobile       0        -1   \n",
       "1497        1498           5   Instagram     Desktop       0        -1   \n",
       "1498        1499           1  Google SEO     Desktop       0        -1   \n",
       "1499        1500           1  Google SEO      Mobile       0        -1   \n",
       "\n",
       "      Product id  Products  Pricing plan id Pricing plan  City id  \\\n",
       "0              5  SprayPix                2     Advanced        6   \n",
       "1              2      Pixo                1        Light        8   \n",
       "2              4   Artista                1        Light        1   \n",
       "3              5  SprayPix                2     Advanced        1   \n",
       "4              4   Artista                2     Advanced        3   \n",
       "...          ...       ...              ...          ...      ...   \n",
       "1495          -1      NONE               -1         NONE        5   \n",
       "1496          -1      NONE               -1         NONE        5   \n",
       "1497          -1      NONE               -1         NONE        6   \n",
       "1498          -1      NONE               -1         NONE        5   \n",
       "1499          -1      NONE               -1         NONE       10   \n",
       "\n",
       "                  City  Day of week (num) Day of week  \n",
       "0               Đà Lạt                  3         Wed  \n",
       "1        Buôn Ma Thuột                  2         Tue  \n",
       "2     Ho Chi Minh City                  5         Fri  \n",
       "3     Ho Chi Minh City                  1         Mon  \n",
       "4              Da Nang                  1         Mon  \n",
       "...                ...                ...         ...  \n",
       "1495           Đông Hà                  1         Mon  \n",
       "1496           Đông Hà                  5         Fri  \n",
       "1497            Đà Lạt                  3         Wed  \n",
       "1498           Đông Hà                  5         Fri  \n",
       "1499         Nha Trang                  5         Fri  \n",
       "\n",
       "[1500 rows x 14 columns]"
      ]
     },
     "execution_count": 42,
     "metadata": {},
     "output_type": "execute_result"
    }
   ],
   "source": [
    "visitor_df = visitor_data[\"Visitors data\"]\n",
    "visitor_df"
   ]
  },
  {
   "cell_type": "code",
   "execution_count": 26,
   "id": "bb4901c8",
   "metadata": {},
   "outputs": [
    {
     "name": "stdout",
     "output_type": "stream",
     "text": [
      "<class 'pandas.core.frame.DataFrame'>\n",
      "RangeIndex: 6 entries, 0 to 5\n",
      "Data columns (total 2 columns):\n",
      " #   Column      Non-Null Count  Dtype \n",
      "---  ------      --------------  ----- \n",
      " 0   Product id  6 non-null      int64 \n",
      " 1   Product     6 non-null      object\n",
      "dtypes: int64(1), object(1)\n",
      "memory usage: 228.0+ bytes\n"
     ]
    }
   ],
   "source": [
    "products_df = visitor_data[\"Products\"]\n",
    "products_df.info()"
   ]
  },
  {
   "cell_type": "code",
   "execution_count": 27,
   "id": "b44b3c3e",
   "metadata": {},
   "outputs": [
    {
     "name": "stdout",
     "output_type": "stream",
     "text": [
      "<class 'pandas.core.frame.DataFrame'>\n",
      "RangeIndex: 10 entries, 0 to 9\n",
      "Data columns (total 2 columns):\n",
      " #   Column   Non-Null Count  Dtype \n",
      "---  ------   --------------  ----- \n",
      " 0   City id  10 non-null     int64 \n",
      " 1   City     10 non-null     object\n",
      "dtypes: int64(1), object(1)\n",
      "memory usage: 292.0+ bytes\n"
     ]
    }
   ],
   "source": [
    "city_df = visitor_data[\"Cities\"]\n",
    "city_df.info()"
   ]
  },
  {
   "cell_type": "code",
   "execution_count": 28,
   "id": "9b5fc3c7",
   "metadata": {},
   "outputs": [
    {
     "name": "stdout",
     "output_type": "stream",
     "text": [
      "<class 'pandas.core.frame.DataFrame'>\n",
      "RangeIndex: 6 entries, 0 to 5\n",
      "Data columns (total 2 columns):\n",
      " #   Column      Non-Null Count  Dtype \n",
      "---  ------      --------------  ----- \n",
      " 0   Channel id  6 non-null      int64 \n",
      " 1   Channel     6 non-null      object\n",
      "dtypes: int64(1), object(1)\n",
      "memory usage: 228.0+ bytes\n"
     ]
    }
   ],
   "source": [
    "channel_df = visitor_data[\"Traffic channels\"]\n",
    "channel_df.info()"
   ]
  },
  {
   "cell_type": "code",
   "execution_count": 29,
   "id": "4e66a993",
   "metadata": {},
   "outputs": [
    {
     "name": "stdout",
     "output_type": "stream",
     "text": [
      "<class 'pandas.core.frame.DataFrame'>\n",
      "RangeIndex: 4 entries, 0 to 3\n",
      "Data columns (total 2 columns):\n",
      " #   Column           Non-Null Count  Dtype \n",
      "---  ------           --------------  ----- \n",
      " 0   Pricing plan id  4 non-null      int64 \n",
      " 1   Pricing plan     4 non-null      object\n",
      "dtypes: int64(1), object(1)\n",
      "memory usage: 196.0+ bytes\n"
     ]
    }
   ],
   "source": [
    "princing_plan_df = visitor_data[\"Pricing plans\"]\n",
    "princing_plan_df.info()"
   ]
  },
  {
   "cell_type": "code",
   "execution_count": 30,
   "id": "5c1cbe8e",
   "metadata": {},
   "outputs": [
    {
     "name": "stdout",
     "output_type": "stream",
     "text": [
      "<class 'pandas.core.frame.DataFrame'>\n",
      "RangeIndex: 4 entries, 0 to 3\n",
      "Data columns (total 7 columns):\n",
      " #   Column      Non-Null Count  Dtype  \n",
      "---  ------      --------------  -----  \n",
      " 0   Unnamed: 0  4 non-null      object \n",
      " 1   Pintury     2 non-null      float64\n",
      " 2   Pixo        2 non-null      float64\n",
      " 3   Floati      2 non-null      float64\n",
      " 4   Artista     2 non-null      float64\n",
      " 5   SprayPix    2 non-null      float64\n",
      " 6   NONE        4 non-null      int64  \n",
      "dtypes: float64(5), int64(1), object(1)\n",
      "memory usage: 356.0+ bytes\n"
     ]
    }
   ],
   "source": [
    "prices_df = visitor_data[\"Prices\"]\n",
    "prices_df.info()"
   ]
  },
  {
   "cell_type": "markdown",
   "id": "d90cbf58",
   "metadata": {},
   "source": [
    "# **Set index**"
   ]
  },
  {
   "cell_type": "code",
   "execution_count": 31,
   "id": "4c9f91ca",
   "metadata": {},
   "outputs": [],
   "source": [
    "products_df = products_df.set_index(\"Product id\")\n",
    "city_df = city_df.set_index(\"City id\")\n",
    "channel_df = channel_df.set_index(\"Channel id\")"
   ]
  },
  {
   "cell_type": "code",
   "execution_count": 32,
   "id": "606f2283",
   "metadata": {},
   "outputs": [],
   "source": [
    "princing_plan_df = princing_plan_df.set_index(\"Pricing plan id\")\n",
    "prices_df = prices_df.set_index(prices_df.columns[0])"
   ]
  },
  {
   "cell_type": "code",
   "execution_count": 33,
   "id": "ec474d31",
   "metadata": {},
   "outputs": [
    {
     "data": {
      "text/html": [
       "<div>\n",
       "<style scoped>\n",
       "    .dataframe tbody tr th:only-of-type {\n",
       "        vertical-align: middle;\n",
       "    }\n",
       "\n",
       "    .dataframe tbody tr th {\n",
       "        vertical-align: top;\n",
       "    }\n",
       "\n",
       "    .dataframe thead th {\n",
       "        text-align: right;\n",
       "    }\n",
       "</style>\n",
       "<table border=\"1\" class=\"dataframe\">\n",
       "  <thead>\n",
       "    <tr style=\"text-align: right;\">\n",
       "      <th></th>\n",
       "      <th>Pintury</th>\n",
       "      <th>Pixo</th>\n",
       "      <th>Floati</th>\n",
       "      <th>Artista</th>\n",
       "      <th>SprayPix</th>\n",
       "      <th>NONE</th>\n",
       "    </tr>\n",
       "    <tr>\n",
       "      <th>Unnamed: 0</th>\n",
       "      <th></th>\n",
       "      <th></th>\n",
       "      <th></th>\n",
       "      <th></th>\n",
       "      <th></th>\n",
       "      <th></th>\n",
       "    </tr>\n",
       "  </thead>\n",
       "  <tbody>\n",
       "    <tr>\n",
       "      <th>Light</th>\n",
       "      <td>199.0</td>\n",
       "      <td>144.0</td>\n",
       "      <td>395.0</td>\n",
       "      <td>599.0</td>\n",
       "      <td>297.0</td>\n",
       "      <td>0</td>\n",
       "    </tr>\n",
       "    <tr>\n",
       "      <th>Advanced</th>\n",
       "      <td>NaN</td>\n",
       "      <td>NaN</td>\n",
       "      <td>NaN</td>\n",
       "      <td>NaN</td>\n",
       "      <td>NaN</td>\n",
       "      <td>0</td>\n",
       "    </tr>\n",
       "    <tr>\n",
       "      <th>Premium</th>\n",
       "      <td>NaN</td>\n",
       "      <td>NaN</td>\n",
       "      <td>NaN</td>\n",
       "      <td>NaN</td>\n",
       "      <td>NaN</td>\n",
       "      <td>0</td>\n",
       "    </tr>\n",
       "    <tr>\n",
       "      <th>NONE</th>\n",
       "      <td>0.0</td>\n",
       "      <td>0.0</td>\n",
       "      <td>0.0</td>\n",
       "      <td>0.0</td>\n",
       "      <td>0.0</td>\n",
       "      <td>0</td>\n",
       "    </tr>\n",
       "  </tbody>\n",
       "</table>\n",
       "</div>"
      ],
      "text/plain": [
       "            Pintury   Pixo  Floati  Artista  SprayPix  NONE\n",
       "Unnamed: 0                                                 \n",
       "Light         199.0  144.0   395.0    599.0     297.0     0\n",
       "Advanced        NaN    NaN     NaN      NaN       NaN     0\n",
       "Premium         NaN    NaN     NaN      NaN       NaN     0\n",
       "NONE            0.0    0.0     0.0      0.0       0.0     0"
      ]
     },
     "execution_count": 33,
     "metadata": {},
     "output_type": "execute_result"
    }
   ],
   "source": [
    "products_df\n",
    "city_df\n",
    "channel_df\n",
    "princing_plan_df\n",
    "prices_df"
   ]
  },
  {
   "cell_type": "markdown",
   "id": "0043d6b9",
   "metadata": {},
   "source": [
    "## **Map data**"
   ]
  },
  {
   "cell_type": "code",
   "execution_count": 43,
   "id": "263ded89",
   "metadata": {},
   "outputs": [],
   "source": [
    "visitor_df[\"Products\"] = visitor_df[\"Product id\"].map(products_df[\"Product\"])\n",
    "visitor_df[\"Channel\"] = visitor_df[\"Channel id\"].map(channel_df[\"Channel\"])\n",
    "visitor_df[\"City\"] = visitor_df[\"City id\"].map(city_df[\"City\"])\n",
    "visitor_df[\"Pricing plan\"] = visitor_df[\"Pricing plan id\"].map(princing_plan_df[\"Pricing plan\"])\n"
   ]
  },
  {
   "cell_type": "code",
   "execution_count": 45,
   "id": "cea9066b",
   "metadata": {},
   "outputs": [
    {
     "data": {
      "text/plain": [
       "np.int64(5)"
      ]
     },
     "execution_count": 45,
     "metadata": {},
     "output_type": "execute_result"
    }
   ],
   "source": [
    "products_id = visitor_df.loc[0, \"Product id\"]\n",
    "products_id"
   ]
  },
  {
   "cell_type": "code",
   "execution_count": 47,
   "id": "9b61d4d0",
   "metadata": {},
   "outputs": [
    {
     "data": {
      "text/plain": [
       "'SprayPix'"
      ]
     },
     "execution_count": 47,
     "metadata": {},
     "output_type": "execute_result"
    }
   ],
   "source": [
    "products_name = products_df.loc[products_id][\"Product\"]\n",
    "products_name"
   ]
  },
  {
   "cell_type": "code",
   "execution_count": 55,
   "id": "d1fe1451",
   "metadata": {},
   "outputs": [],
   "source": [
    "def Tinhtoan(row):\n",
    "    product_id = row[\"Product id\"]\n",
    "    pricing_plan_id = row[\"Pricing plan id\"]\n",
    "    if product_id == -1 and pricing_plan_id == -1:\n",
    "        return 0\n",
    "    product_name = products_df.loc[product_id][\"Product\"]\n",
    "    pricing_plan = princing_plan_df.loc[pricing_plan_id][\"Pricing plan\"]\n",
    "    return prices_df.loc[pricing_plan, product_name]"
   ]
  },
  {
   "cell_type": "code",
   "execution_count": 51,
   "id": "97129fbb",
   "metadata": {},
   "outputs": [],
   "source": [
    "visitor_df[\"Channel\"] = visitor_df[\"Channel\"].fillna(visitor_df[\"Channel\"].mode()[0])"
   ]
  },
  {
   "cell_type": "code",
   "execution_count": 56,
   "id": "6800324b",
   "metadata": {},
   "outputs": [],
   "source": [
    "visitor_df[\"Income\"] = visitor_df.apply(Tinhtoan, axis=1)"
   ]
  },
  {
   "cell_type": "code",
   "execution_count": 57,
   "id": "591544e6",
   "metadata": {},
   "outputs": [],
   "source": [
    "visitor_df.to_excel(\"Company confix data.xlsx\", index= False)"
   ]
  }
 ],
 "metadata": {
  "kernelspec": {
   "display_name": "base",
   "language": "python",
   "name": "python3"
  },
  "language_info": {
   "codemirror_mode": {
    "name": "ipython",
    "version": 3
   },
   "file_extension": ".py",
   "mimetype": "text/x-python",
   "name": "python",
   "nbconvert_exporter": "python",
   "pygments_lexer": "ipython3",
   "version": "3.13.5"
  }
 },
 "nbformat": 4,
 "nbformat_minor": 5
}
