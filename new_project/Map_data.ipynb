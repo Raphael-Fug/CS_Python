{
 "cells": [
  {
   "cell_type": "code",
   "execution_count": 1,
   "id": "74778ab3",
   "metadata": {},
   "outputs": [],
   "source": [
    "import pandas as pd\n",
    "import os\n"
   ]
  },
  {
   "cell_type": "code",
   "execution_count": 2,
   "id": "7dd591e9",
   "metadata": {},
   "outputs": [],
   "source": [
    "\"\"\"Tạo dataframe\"\"\"\n",
    "data = pd.read_excel(\"data/company data.xlsx\", sheet_name=None)\n",
    "visitor_df = data[\"Visitors data\"]\n",
    "products_df = data[\"Products\"]\n",
    "city_df = data[\"Cities\"]\n",
    "channel_df = data[\"Traffic channels\"]\n",
    "pricing_plans_df = data[\"Pricing plans\"]\n",
    "prices_df = data[\"Prices\"]"
   ]
  },
  {
   "cell_type": "code",
   "execution_count": 3,
   "id": "334e82c8",
   "metadata": {},
   "outputs": [],
   "source": [
    "products_df = products_df.set_index(\"Product id\")\n",
    "city_df = city_df.set_index(\"City id\")\n",
    "channel_df = channel_df.set_index(\"Channel id\")\n",
    "pricing_plans_df = pricing_plans_df.set_index(\"Pricing plan id\")\n",
    "prices_df = prices_df.set_index(prices_df.columns[0])"
   ]
  },
  {
   "cell_type": "code",
   "execution_count": 4,
   "id": "c98acea8",
   "metadata": {},
   "outputs": [],
   "source": [
    "visitor_df[\"Products\"] = visitor_df[\"Product id\"].map(products_df[\"Product\"])\n",
    "visitor_df[\"City\"] = visitor_df[\"City id\"].map(city_df[\"City\"])\n",
    "visitor_df[\"Traffic channel\"] = visitor_df[\"Channel id\"].map(channel_df[\"Channel\"])\n",
    "visitor_df[\"Pricing plans\"] = visitor_df[\"Pricing plan id\"].map(pricing_plans_df[\"Pricing plan\"])\n"
   ]
  },
  {
   "cell_type": "code",
   "execution_count": 5,
   "id": "f4c4fba1",
   "metadata": {},
   "outputs": [],
   "source": [
    "products_id = visitor_df.loc[0, \"Product id\"]\n",
    "products_name = products_df.loc[products_id][\"Product\"]"
   ]
  },
  {
   "cell_type": "code",
   "execution_count": 6,
   "id": "40b740a2",
   "metadata": {},
   "outputs": [],
   "source": [
    "def Tinhtoan(row):\n",
    "    product_id = row[\"Product id\"]\n",
    "    pricing_plans_id = row[\"Pricing plan id\"]\n",
    "    if product_id == -1 and pricing_plans_id == -1:\n",
    "        return 0\n",
    "    product_name = products_df.loc[product_id][\"Product\"]\n",
    "    pricing_plan = pricing_plans_df.loc[pricing_plans_id][\"Pricing plan\"]\n",
    "    return prices_df.loc[pricing_plan, product_name]"
   ]
  },
  {
   "cell_type": "code",
   "execution_count": 7,
   "id": "bebde495",
   "metadata": {},
   "outputs": [
    {
     "name": "stdout",
     "output_type": "stream",
     "text": [
      "<class 'pandas.core.frame.DataFrame'>\n",
      "RangeIndex: 500 entries, 0 to 499\n",
      "Data columns (total 14 columns):\n",
      " #   Column             Non-Null Count  Dtype \n",
      "---  ------             --------------  ----- \n",
      " 0   Visitor id         500 non-null    int64 \n",
      " 1   Channel id         500 non-null    int64 \n",
      " 2   Device type        500 non-null    object\n",
      " 3   Bought             500 non-null    int64 \n",
      " 4   Order id           500 non-null    int64 \n",
      " 5   Product id         500 non-null    int64 \n",
      " 6   Pricing plan id    500 non-null    int64 \n",
      " 7   City id            500 non-null    int64 \n",
      " 8   Day of week (num)  500 non-null    int64 \n",
      " 9   Day of week        500 non-null    object\n",
      " 10  Products           500 non-null    object\n",
      " 11  City               500 non-null    object\n",
      " 12  Traffic channel    500 non-null    object\n",
      " 13  Pricing plans      500 non-null    object\n",
      "dtypes: int64(8), object(6)\n",
      "memory usage: 54.8+ KB\n"
     ]
    }
   ],
   "source": [
    "visitor_df[\"Traffic channel\"] = visitor_df[\"Traffic channel\"].fillna(visitor_df[\"Traffic channel\"].mode()[0])\n",
    "visitor_df.info()"
   ]
  },
  {
   "cell_type": "code",
   "execution_count": 8,
   "id": "62d6062b",
   "metadata": {},
   "outputs": [],
   "source": [
    "visitor_df[\"Income\"] = visitor_df.apply(Tinhtoan, axis=1)"
   ]
  },
  {
   "cell_type": "code",
   "execution_count": 9,
   "id": "73d8dee2",
   "metadata": {},
   "outputs": [],
   "source": [
    "visitor_df = visitor_df.drop(columns=[\"Channel id\"])\n",
    "visitor_df = visitor_df.drop(columns=[\"Product id\"])\n",
    "visitor_df = visitor_df.drop(columns=[\"Pricing plan id\"])\n",
    "visitor_df = visitor_df.drop(columns=[\"City id\"])"
   ]
  },
  {
   "cell_type": "code",
   "execution_count": 10,
   "id": "8344671b",
   "metadata": {},
   "outputs": [],
   "source": [
    "visitor_df.to_excel(\"Convert/Company data convert.xlsx\")"
   ]
  }
 ],
 "metadata": {
  "kernelspec": {
   "display_name": "base",
   "language": "python",
   "name": "python3"
  },
  "language_info": {
   "codemirror_mode": {
    "name": "ipython",
    "version": 3
   },
   "file_extension": ".py",
   "mimetype": "text/x-python",
   "name": "python",
   "nbconvert_exporter": "python",
   "pygments_lexer": "ipython3",
   "version": "3.13.5"
  }
 },
 "nbformat": 4,
 "nbformat_minor": 5
}
